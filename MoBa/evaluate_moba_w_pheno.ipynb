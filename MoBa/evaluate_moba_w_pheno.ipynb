{
 "cells": [
  {
   "cell_type": "markdown",
   "metadata": {},
   "source": [
    "## Evaluate MoBa w. pheno\n",
    "Read MoBa phenotypic information and correlate with polygenic scores computed using different methods. \n",
    "This file is only an example written for height as phenotype and should be adapted for other phenotypes."
   ]
  },
  {
   "cell_type": "code",
   "execution_count": null,
   "metadata": {},
   "outputs": [],
   "source": [
    "%matplotlib inline"
   ]
  },
  {
   "cell_type": "code",
   "execution_count": null,
   "metadata": {},
   "outputs": [],
   "source": [
    "# import packages\n",
    "import os\n",
    "import pandas as pd\n",
    "import numpy as np\n",
    "from pyreadstat import read_sav\n",
    "import matplotlib.pyplot as plt\n",
    "import yaml\n",
    "import statsmodels.api as sm\n",
    "import statsmodels.formula.api as smf\n",
    "import seaborn as sns"
   ]
  },
  {
   "cell_type": "code",
   "execution_count": null,
   "metadata": {},
   "outputs": [],
   "source": [
    "def standardize_resid(df, x, cont_variables=[], cat_variables=[]):\n",
    "    '''Helper function to return standardized dataframe column valuables\n",
    "    residualized on other columns with continuous and categorical variables\n",
    "\n",
    "    Parameters\n",
    "    ----------\n",
    "    df: DataFrame\n",
    "        pandas.DataFrame object\n",
    "    x: str\n",
    "        column name of data to residualize\n",
    "    cont_variables: list of str\n",
    "        list of column names with continuous variables\n",
    "    cat_variables: list of str\n",
    "        list of column names with categorical variables\n",
    "    '''\n",
    "    # deal with weirdly named columns\n",
    "    dataframe = df[[x] + cont_variables + cat_variables].copy()\n",
    "    assert 'y' not in dataframe.columns, 'can not deal with columns named \"y\"'\n",
    "    dataframe['y'] = dataframe[x]\n",
    "\n",
    "    formula = f'y~'\n",
    "    if len(cont_variables) > 0:\n",
    "        formula += '+'.join(cont_variables)\n",
    "        if len(cat_variables) > 0:\n",
    "            formula += '+'\n",
    "    if len(cat_variables) > 0:\n",
    "        formula += '+'.join([f'C({var})' for var in cat_variables])\n",
    "    model = smf.ols(formula, data=sm.add_constant(dataframe[['y'] + cont_variables + cat_variables])).fit()\n",
    "    return model.get_influence().resid_studentized_internal"
   ]
  },
  {
   "cell_type": "code",
   "execution_count": null,
   "metadata": {},
   "outputs": [],
   "source": [
    "# Questionnaire, INFO, pedigree, covariance files\n",
    "file_info = '/ess/p697/data/durable/phenotypes/mobaQ/PDB2445_MoBa_V12/PDB2445_SV_INFO_V12.sav'\n",
    "file_Q1 = '/ess/p697/data/durable/phenotypes/mobaQ/PDB2445_MoBa_V12/PDB2445_Q1_v12.sav'\n",
    "file_Far2 = '/ess/p697/data/durable/phenotypes/mobaQ/PDB2445_MoBa_V12/PDB2445_Far2_v12.sav'\n",
    "file_pedigree = '/ess/p697/data/durable/projects/moba_qc_imputation/resources/genotyped_pedigree.txt'\n",
    "file_covariance = '/tsd/p697/data/durable/genotype/MoBaPsychGen_v1/MoBaPsychGen_v1-ec-eur-batch-basic-qc-cov.txt'\n"
   ]
  },
  {
   "cell_type": "code",
   "execution_count": null,
   "metadata": {},
   "outputs": [],
   "source": [
    "# INFO file with pregnancy ID, mother ID, father ID\n",
    "info, info_meta = read_sav(file_info)\n",
    "info"
   ]
  },
  {
   "cell_type": "code",
   "execution_count": null,
   "metadata": {},
   "outputs": [],
   "source": [
    "# preg ID, mother height, father height\n",
    "mother, mother_meta = read_sav(file_Q1, usecols=['PREG_ID_2445', 'AA87', 'AA88'])\n",
    "mother = mother.merge(info, on='PREG_ID_2445')\n",
    "mother"
   ]
  },
  {
   "cell_type": "code",
   "execution_count": null,
   "metadata": {},
   "outputs": [],
   "source": [
    "# father ID, father height\n",
    "father, father_meta = read_sav(file_Far2, usecols=['F_ID_2445', 'G__5'])  \n",
    "father"
   ]
  },
  {
   "cell_type": "code",
   "execution_count": null,
   "metadata": {},
   "outputs": [],
   "source": [
    "# make df with height values\n",
    "height = pd.concat(\n",
    "    (mother.rename(columns={'M_ID_2445': 'ID_2445', 'AA87': 'height_cm'})[['ID_2445', 'height_cm']],\n",
    "     mother.rename(columns={'F_ID_2445': 'ID_2445', 'AA88': 'height_cm'})[['ID_2445', 'height_cm']].dropna(),\n",
    "     ))\n",
    "height.drop_duplicates(inplace=True)\n",
    "height = pd.DataFrame(height.groupby('ID_2445')['height_cm'].mean()).reset_index()\n",
    "height = height[height['ID_2445'] != ''].reset_index(drop=True)\n",
    "# choose father's self-reported height if available\n",
    "height = pd.concat([father.rename(columns={'F_ID_2445': 'ID_2445', 'G__5': 'height_cm'}), \n",
    "                    height]\n",
    "                    ).drop_duplicates('ID_2445').sort_values('ID_2445')\n",
    "# get genotyped pedigree\n",
    "height = height.merge(pd.read_csv(file_pedigree, sep='\\t', \n",
    "                      usecols=['ID_2445', 'SENTRIXID', 'FID', 'IID']),\n",
    "                      on='ID_2445')\n",
    "height"
   ]
  },
  {
   "cell_type": "code",
   "execution_count": null,
   "metadata": {},
   "outputs": [],
   "source": [
    "# merge covariates with height values.\n",
    "cov = pd.read_csv('input/keep.txt', sep='\\t', header=None, names=['FID', 'IID'])\n",
    "cov = cov.merge(pd.read_csv(file_covariance, \n",
    "                            sep='\\t', \n",
    "                            usecols=['ID_2445', 'SENTRIXID', 'FID', 'IID', 'SEX', 'YOB', 'genotyping_batch'] + [f'PC{i}' for i in range(1, 11)],\n",
    "                            ),\n",
    "                on=['FID', 'IID'])\n",
    "\n",
    "cov = cov.merge(height, on=['ID_2445', 'IID', 'SENTRIXID'])  # NOTE: omitting FID as they are mismatched\n",
    "cov.dropna(axis=0, inplace=True)\n",
    "cov"
   ]
  },
  {
   "cell_type": "code",
   "execution_count": null,
   "metadata": {},
   "outputs": [],
   "source": [
    "# get config for GenoPred\n",
    "with open('config.yaml', 'r') as f:\n",
    "    config = yaml.safe_load(f)\n",
    "config"
   ]
  },
  {
   "cell_type": "code",
   "execution_count": null,
   "metadata": {},
   "outputs": [],
   "source": [
    "target_list = pd.read_csv(config['target_list'], sep=' ')\n",
    "target_list"
   ]
  },
  {
   "cell_type": "code",
   "execution_count": null,
   "metadata": {},
   "outputs": [],
   "source": [
    "gwas_list = pd.read_csv(config['gwas_list'], sep=' ')\n",
    "gwas_list"
   ]
  },
  {
   "cell_type": "code",
   "execution_count": null,
   "metadata": {},
   "outputs": [],
   "source": [
    "# Evaluate PGS vs phenotype, basic test of R2 between residualized PGS genotyped batch, \n",
    "# PC1-10 and reported phenotype residualized on SEX, YOB, \n",
    "# NOTE: not to be considered rigorous testing, just to demonstrate correlation between \n",
    "# phenotype and corresponding PGS.\n",
    "trait = 'height_cm'\n",
    "trait_res = 'height_res'\n",
    "#residualized height\n",
    "cov[trait_res] = standardize_resid(cov, trait, ['YOB'], ['SEX'])\n",
    "\n",
    "# create metrics df\n",
    "metrics = pd.DataFrame({'method': [], 'pgs_col': [], 'R2': []})\n",
    "for method in config['pgs_methods']:\n",
    "    file_pgs = os.path.join(config['outdir'], target_list.name[0], 'pgs', gwas_list.population[0], method, gwas_list.name[0],\n",
    "                             f'{target_list.name[0]}-{gwas_list.name[0]}-{gwas_list.population[0]}.profiles')\n",
    "    columns = pd.read_csv(file_pgs, sep=' ', nrows=0).columns\n",
    "    # evaluate all prediction columns, find best fit using LM, showing result\n",
    "    pgs_columns = columns.drop(['IID', 'FID'])\n",
    "    for pgs_col in pgs_columns:\n",
    "        pgs = pd.read_csv(file_pgs, sep=' ', usecols=['IID', pgs_col])\n",
    "        pgs = pgs.merge(cov[['IID', trait_res, 'genotyping_batch'] + [f'PC{i}' for i in range(1, 11)]], on='IID')\n",
    "        pgs.dropna(inplace=True, axis=0)\n",
    "        if pgs.shape[0] == 0:\n",
    "            continue  # skip if all rows are dropped in case of NaNs\n",
    "        else:\n",
    "            pgs['pgs_res'] = standardize_resid(pgs, pgs_col, [f'PC{i}' for i in range(1, 11)], ['genotyping_batch'])\n",
    "            model_fit = smf.ols(f'{trait_res} ~ pgs_res', data=pgs[[trait_res, 'pgs_res']]).fit()\n",
    "\n",
    "            metrics = pd.concat((metrics, pd.DataFrame({'method': [method], 'pgs_col': [pgs_col], 'R2': [model_fit.rsquared]})))\n",
    "metrics.reset_index(inplace=True, drop=True)"
   ]
  },
  {
   "cell_type": "code",
   "execution_count": null,
   "metadata": {},
   "outputs": [],
   "source": [
    "# compare range of R2 values across thresholds etc.\n",
    "fig, ax = plt.subplots(1, 1, figsize=(10, 4))\n",
    "sns.swarmplot(data=metrics, x='R2', hue='method', ax=ax)"
   ]
  },
  {
   "cell_type": "code",
   "execution_count": null,
   "metadata": {},
   "outputs": [],
   "source": [
    "# plot score vs trait values (residualized), \n",
    "# Shows score columns maximizing R2 for each method. \n",
    "nrows = 2\n",
    "ncols = 4\n",
    "fig, axes = plt.subplots(nrows, ncols, figsize=(4 * ncols, 4 * nrows), sharey=True, sharex=True)\n",
    "for ax, method in zip(axes.flatten(), config['pgs_methods']):\n",
    "    file_pgs = os.path.join(config['outdir'], target_list.name[0], 'pgs', gwas_list.population[0], method, gwas_list.name[0],\n",
    "                             f'{target_list.name[0]}-{gwas_list.name[0]}-{gwas_list.population[0]}.profiles')\n",
    "    # plot result maximizing R2\n",
    "    mmm = metrics[metrics.method == method].reset_index()\n",
    "    rowind = np.where(mmm.R2 == mmm.R2.max())[0][0]\n",
    "    pgs_col = mmm.loc[rowind].pgs_col\n",
    "\n",
    "    pgs = pd.read_csv(file_pgs, sep=' ', usecols=['IID', pgs_col])\n",
    "    pgs = pgs.merge(cov[['IID', trait_res, 'genotyping_batch'] + [f'PC{i}' for i in range(1, 11)]], on='IID')\n",
    "    pgs.dropna(inplace=True, axis=0)\n",
    "    pgs['pgs_res'] = standardize_resid(pgs, pgs_col, [f'PC{i}' for i in range(1, 11)], ['genotyping_batch'])\n",
    "  \n",
    "    sns.regplot(\n",
    "        data=pgs,\n",
    "        x=trait_res, y='pgs_res',\n",
    "        label=f'{pgs_col}\\nR2={mmm.R2.max():.3f}',\n",
    "        marker='.',\n",
    "        ax=ax\n",
    "    )\n",
    "\n",
    "    ax.legend(loc='best')\n",
    "    ax.set_title(method)\n",
    "    ax.set_xlabel('height (residualized)', labelpad=0)\n",
    "    ax.set_ylabel('$\\mathrm{PGS}_\\mathrm{residualized}$', labelpad=0)\n",
    "\n",
    "for ax in axes.flatten()[len(config['pgs_methods']):]:\n",
    "    ax.set_visible(False)\n"
   ]
  },
  {
   "cell_type": "code",
   "execution_count": null,
   "metadata": {},
   "outputs": [],
   "source": []
  }
 ],
 "metadata": {
  "kernelspec": {
   "display_name": "Python 3 (ipykernel)",
   "language": "python",
   "name": "python3"
  },
  "language_info": {
   "codemirror_mode": {
    "name": "ipython",
    "version": 3
   },
   "file_extension": ".py",
   "mimetype": "text/x-python",
   "name": "python",
   "nbconvert_exporter": "python",
   "pygments_lexer": "ipython3",
   "version": "3.10.4"
  }
 },
 "nbformat": 4,
 "nbformat_minor": 2
}
