{
 "cells": [
  {
   "cell_type": "markdown",
   "metadata": {},
   "source": [
    "## Extract MoBa targets\n",
    "\n",
    "Produce target data subset from MoBa sample, using a chosen number of individuals, keeping all SNPs"
   ]
  },
  {
   "cell_type": "code",
   "execution_count": null,
   "metadata": {},
   "outputs": [],
   "source": [
    "import os\n",
    "import numpy as np\n",
    "# import pandas as pd\n",
    "import subprocess as sp"
   ]
  },
  {
   "cell_type": "raw",
   "metadata": {},
   "source": [
    "GENODIR = '/ess/p697/data/durable/genotype/MoBaPsychGen_v1/'\n",
    "PREFIX = 'MoBaPsychGen_v1-ec-eur-batch-basic-qc'\n",
    "UNRELATED = 'parent_unrelated.txt'\n",
    "\n",
    "# extract randmloy chosen individuals and  randomly chosen SNPs\n",
    "N_inds = 1000\n",
    "N_snps = 100000\n",
    "\n",
    "# OUTPUT \n",
    "OUTDIR = '/ess/p697/data/durable/users/espehage/GenoPredProtocols/MoBa/input'\n",
    "PREFIX_OUT = f'{PREFIX}-{N_inds}inds-{N_snps}variants'\n",
    "\n",
    "KEEP_FILE = os.path.join(OUTDIR, 'keep.txt')\n",
    "EXTRACT_FILE = os.path.join(OUTDIR, 'extract.txt')"
   ]
  },
  {
   "cell_type": "raw",
   "metadata": {},
   "source": [
    "# random individuals\n",
    "os.makedirs(OUTDIR, exist_ok=True)\n",
    "call = f\"shuf -n {N_inds} {os.path.join(GENODIR, UNRELATED)} > {KEEP_FILE}\"\n",
    "print(call)\n",
    "sp.run(call, shell=True, check=False)\n",
    "\n",
    "# random variants\n",
    "nrows = 0\n",
    "with open(os.path.join(GENODIR, PREFIX) + '.bim', 'r') as f:\n",
    "    for _ in f.readlines():\n",
    "        nrows += 1\n",
    "print(nrows)\n",
    "rows = np.random.permutation(np.arange(nrows))[:N_snps]\n",
    "rows.sort()\n",
    "with open(os.path.join(GENODIR, PREFIX) + '.bim', 'r') as f_in:\n",
    "    with open(EXTRACT_FILE, 'w') as f_out:\n",
    "        for row, line in enumerate(f_in.readlines()):\n",
    "            if row in rows:\n",
    "                f_out.write(line)"
   ]
  },
  {
   "cell_type": "raw",
   "metadata": {},
   "source": [
    "# make new bed files, one per chromosome (needed by GenoPred)\n",
    "for chr in range(1, 23):\n",
    "    call = f'plink --bfile {os.path.join(GENODIR, PREFIX)} --extract {EXTRACT_FILE} --chr {chr} --keep {KEEP_FILE} --threads 64 --memory 16000 --make-bed --out {os.path.join(OUTDIR, PREFIX_OUT) + f\".chr{chr}\"}'\n",
    "    print(call)\n",
    "    sp.run(call, shell=True, check=False)"
   ]
  },
  {
   "cell_type": "code",
   "execution_count": null,
   "metadata": {},
   "outputs": [],
   "source": [
    "# make fileset with all variants intact\n",
    "GENODIR = '/ess/p697/data/durable/genotype/MoBaPsychGen_v1/'\n",
    "PREFIX = 'MoBaPsychGen_v1-ec-eur-batch-basic-qc'\n",
    "UNRELATED = 'parent_unrelated.txt'\n",
    "\n",
    "# extract randomly chosen individuals\n",
    "N_inds = 1000\n",
    "\n",
    "# OUTPUT \n",
    "OUTDIR = '/ess/p697/data/durable/users/espehage/GenoPredProtocols/MoBa/input'\n",
    "PREFIX_OUT = f'{PREFIX}-{N_inds}inds-all-variants'\n",
    "KEEP_FILE = os.path.join(OUTDIR, 'keep.txt')\n",
    "\n",
    "# random individuals\n",
    "os.makedirs(OUTDIR, exist_ok=True)\n",
    "call = f\"shuf -n {N_inds} {os.path.join(GENODIR, UNRELATED)} > {KEEP_FILE}\"\n",
    "print(call)\n",
    "sp.run(call, shell=True, check=False)\n",
    "\n",
    "# make new bed files, one per chromosome (needed by GenoPred)\n",
    "for chr in range(1, 23):\n",
    "    call = f'plink --bfile {os.path.join(GENODIR, PREFIX)} --chr {chr} --keep {KEEP_FILE} --threads 64 --memory 16000 --make-bed --out {os.path.join(OUTDIR, PREFIX_OUT) + f\".chr{chr}\"}'\n",
    "    print(call)\n",
    "    sp.run(call, shell=True, check=False)"
   ]
  },
  {
   "cell_type": "code",
   "execution_count": null,
   "metadata": {},
   "outputs": [],
   "source": []
  }
 ],
 "metadata": {
  "kernelspec": {
   "display_name": "Python 3 (ipykernel)",
   "language": "python",
   "name": "python3"
  },
  "language_info": {
   "codemirror_mode": {
    "name": "ipython",
    "version": 3
   },
   "file_extension": ".py",
   "mimetype": "text/x-python",
   "name": "python",
   "nbconvert_exporter": "python",
   "pygments_lexer": "ipython3",
   "version": "3.10.4"
  }
 },
 "nbformat": 4,
 "nbformat_minor": 2
}
